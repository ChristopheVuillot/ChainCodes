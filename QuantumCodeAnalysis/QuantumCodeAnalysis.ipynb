{
 "cells": [
  {
   "cell_type": "code",
   "execution_count": 48,
   "metadata": {},
   "outputs": [],
   "source": [
    "def readsparsematrix(filename):\n",
    "    with open(filename, 'r') as f:\n",
    "        topline = f.readline()\n",
    "        toplist = topline.strip().split(' ')\n",
    "        m = int(toplist[0])\n",
    "        n = int(toplist[1])\n",
    "        p = int(toplist[2])\n",
    "        F = GF(p)\n",
    "        M = matrix(F, m, n, sparse=True)\n",
    "        for line in f:\n",
    "            linelist = line.strip().split(' ')\n",
    "            i = int(linelist[0]) - 1\n",
    "            j = int(linelist[1]) - 1\n",
    "            v = int(linelist[2])\n",
    "            M[i,j] = F(v)\n",
    "        return M"
   ]
  },
  {
   "cell_type": "code",
   "execution_count": 63,
   "metadata": {},
   "outputs": [
    {
     "name": "stdout",
     "output_type": "stream",
     "text": [
      "False\n",
      "mx: 1100 - nx:15116\n",
      "mx: 10072 - nx:15116\n",
      "rankx:1098\n",
      "rankz:9176\n",
      "[[n = 15116, k = 4842]] - rate: k/n = 0.320322836729\n",
      "csscond: MX * MZ^T = 0 ? True\n"
     ]
    }
   ],
   "source": [
    "MX = readsparsematrix('../CCMatrices/custom_CCX.txt')\n",
    "MZ = readsparsematrix('../CCMatrices/custom_CCZ.txt')\n",
    "\n",
    "mx, nx = MX.dimensions()\n",
    "mz, nz = MZ.dimensions()\n",
    "rankx = MX.rank()\n",
    "rankz = MZ.rank()\n",
    "k = nx - rankx - rankz\n",
    "MultXZ = MX * MZ.transpose()\n",
    "csscond = sum(sum(MultXZ)) == 0\n",
    "\n",
    "print('mx: {} - nx:{}'.format(mx, nx))\n",
    "print('mx: {} - nx:{}'.format(mz, nz))\n",
    "print('rankx:{}'.format(rankx))\n",
    "print('rankz:{}'.format(rankz))\n",
    "print('[[n = {}, k = {}]] - rate: k/n = {}'.format(nx, k, float(k)/float(nx)))\n",
    "print('csscond: MX * MZ^T = 0 ? {}'.format(csscond))\n"
   ]
  },
  {
   "cell_type": "code",
   "execution_count": 8,
   "metadata": {},
   "outputs": [],
   "source": []
  },
  {
   "cell_type": "code",
   "execution_count": null,
   "metadata": {},
   "outputs": [],
   "source": []
  }
 ],
 "metadata": {
  "kernelspec": {
   "display_name": "SageMath 8.4",
   "language": "",
   "name": "sagemath"
  },
  "language_info": {
   "codemirror_mode": {
    "name": "ipython",
    "version": 2
   },
   "file_extension": ".py",
   "mimetype": "text/x-python",
   "name": "python",
   "nbconvert_exporter": "python",
   "pygments_lexer": "ipython2",
   "version": "2.7.15"
  }
 },
 "nbformat": 4,
 "nbformat_minor": 2
}
